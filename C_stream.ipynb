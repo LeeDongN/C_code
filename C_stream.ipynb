{
  "nbformat": 4,
  "nbformat_minor": 0,
  "metadata": {
    "colab": {
      "name": "C_stream.ipynb",
      "provenance": [],
      "collapsed_sections": [],
      "authorship_tag": "ABX9TyOBwJvJNpbUygi5mkWFcmLl",
      "include_colab_link": true
    },
    "kernelspec": {
      "name": "python3",
      "display_name": "Python 3"
    }
  },
  "cells": [
    {
      "cell_type": "markdown",
      "metadata": {
        "id": "view-in-github",
        "colab_type": "text"
      },
      "source": [
        "<a href=\"https://colab.research.google.com/github/LeeDongN/C_code/blob/master/C_stream.ipynb\" target=\"_parent\"><img src=\"https://colab.research.google.com/assets/colab-badge.svg\" alt=\"Open In Colab\"/></a>"
      ]
    },
    {
      "cell_type": "markdown",
      "metadata": {
        "id": "pPyUuMstzwY6",
        "colab_type": "text"
      },
      "source": [
        "#21 - 1 스트림과 데이터의 이동\n",
        "## 1. '입력'과 출력이란 무엇일까?\n",
        "   -  데이터의 입력과 출력은 프로그램의 흐름을 뜻하는 것이다.\n",
        "   -  입력: 프로그램을 중심으로 프로그램 안으로 데이터가 흘러 들어오는 것 \n",
        "   -  출력: 프로그램 밖으로 데이터가 흘러 나가는 것\n",
        "   -  컴퓨터에 연결이 가능한 <u>마우스, 프린터, 화상 카메라</u>와 같은 기타 장치들도 입출력 장치에 해당함.     \n",
        "\n",
        "\n",
        "     \n",
        "##2. 데이터의 이동수단이 되는 스트림\n",
        "- 프로그램과 모니터, 프로그램과 키보드는 연결되어 있는 개체가 아닌, 서로 떨어져 있는 개체이다. 따라서 이를 연결시켜 주는 다리가 필요한데, 그 다리 역할을 하는 매개체를 **'스트림(stream)'**이라 한다.    \n",
        "\n",
        "\n",
        "  #### 스트림의 정체는 무엇일까?\n",
        "  - 운영체제에서 제공하는 소프트웨어적인 가상의 다리이다.\n",
        "\n",
        "       -> 즉, 운영체제는 외부장치와 프로그램과의 데이터 송수신의 도구가 되는 스트림을 제공하고 있다.\n",
        "  - 스트림은 '한 방향으로 흐르는 데이터의 흐름'을 뜻한다.\n",
        "\n",
        "       -> 실제로 입출력 스트림도 입력 스트림과 출력 스트림이 구분되어서 한 방향으로만 데이터의 흐름을 유지하고 있다.\n",
        "멸\n",
        "\n",
        "\n",
        "##3. 스트림의 생성과 소멸\n",
        "- import <stdio.h>의 정체\n",
        "\n",
        "\n",
        "     - stdin       표준 입력 스트림        키보드 대상으로 입력 \n",
        "     - stout       표준 출력 스트림        모니터 대상으로 출력\n",
        "     - stderr      표준 에러 스트림        모니터 대상으로 출력   \n",
        "\n",
        "  - 콘솔 입출력을 위한 **'입력 스트림'**과 **'출력 스트림'**은 프로그램이 실행되면 자동으로 생성되고, 프로그램이 종료되면 자동으로 소멸되는 스트림이다.   \n",
        "\n",
        "# 21 - 2 문자 단위 입출력 함수\n",
        "## 1. 문자 출력 함수: putchar, fputc\n",
        "\n",
        "\n",
        "\n",
        "     \n"
      ]
    },
    {
      "cell_type": "code",
      "metadata": {
        "id": "Vz_IVD777dSs",
        "colab_type": "code",
        "colab": {}
      },
      "source": [
        "#include <stdio.h>\n",
        "int putchar(int c);\n",
        "int fputc(int c, FILE * stream);"
      ],
      "execution_count": 0,
      "outputs": []
    },
    {
      "cell_type": "markdown",
      "metadata": {
        "id": "J3kSUsF28ozN",
        "colab_type": "text"
      },
      "source": [
        "-> 함수 호출 성공 시 쓰여진 문자정보가, 실패 시 EOF 반환"
      ]
    },
    {
      "cell_type": "markdown",
      "metadata": {
        "id": "9ORzy8HDDLti",
        "colab_type": "text"
      },
      "source": [
        "- putchar 함수는 인자로 전달된 문자정보를 stdout으로 표현되는 표준 출력 스트림으로 전송하는 함수이다. 따라서 인자로 전달된 문자를 모니터로 출력하는 함수라 할 수 있다.     \n"
      ]
    },
    {
      "cell_type": "markdown",
      "metadata": {
        "id": "uapsCGoCZjk-",
        "colab_type": "text"
      },
      "source": [
        "- fputc 함수는 purchar 함수와 '문자를 전송한다는 측면'에서는 동일하다. 단, fputc 함수는 **문자를 전송할 스트림을 지정할 수 있다.**\n",
        "\n",
        "   -> 즉 fputc 함수를 이용하면 stout뿐만 아니라, 파일을 대상으로도 데이터를 전송 할 수 있다.\n",
        "   \n",
        "   (fputc 함수의 두 번째 매개변수 stream은 문자를 출력할 스트림의 지정에 사용된다. 따라서 이 인자에 표준 출력 스트림을 의미하는 stdout을 전달하면, putchar 함수와 동일한 함수가 된다!)\n",
        "\n",
        "\n",
        "##문자 입력 함수: getchar, fgetc"
      ]
    },
    {
      "cell_type": "code",
      "metadata": {
        "id": "H5Eb6zm2ZPi5",
        "colab_type": "code",
        "colab": {}
      },
      "source": [
        "#include <stdio.h>\n",
        "int getchar(void);\n",
        "int fgetc(FILE * stream);"
      ],
      "execution_count": 0,
      "outputs": []
    },
    {
      "cell_type": "markdown",
      "metadata": {
        "id": "Qvu-Cq6CaufE",
        "colab_type": "text"
      },
      "source": [
        "     -> 파일의 끝에 도달하거나 함수 호출 실패 시 EOF 반환\n",
        "\n",
        "- getchar 함수는 stdin으로 표현되는 표준 입력 스트림으로부터 하나의 문자를 입력 받아서 반환하는 함수이다.따라서 키보드로부터 하나의 문자를 입력 받는 함수이다.\n",
        "\n",
        "- fgetc한수도 하나의 문자를 입력 받는 함수이다. 다만 getchar 함수와 달리 문자를 입력 받을 스트림을 지정할 수 있다.\n",
        "\n",
        "(앞서 언급한 putchar, fputc 함수의 관계와 동일하다.)\n",
        "\n"
      ]
    },
    {
      "cell_type": "code",
      "metadata": {
        "id": "F86QKYnCbdE3",
        "colab_type": "code",
        "colab": {}
      },
      "source": [
        "#include <stdio.h>\n",
        "\n",
        "int main(void)\n",
        "{\n",
        "    int ch1, ch2;\n",
        "    ch1 = getchar();   //문자 입력\n",
        "    ch2 = fgetc(stdin);    //엔터 키 입력\n",
        " \n",
        "    putchar(ch1);   //문자 출력\n",
        "    fputc(ch2, stdout);   //엔터 키 출력\n",
        "    return 0;\n",
        "}"
      ],
      "execution_count": 0,
      "outputs": []
    },
    {
      "cell_type": "markdown",
      "metadata": {
        "id": "c_Ew7Y9gb-1E",
        "colab_type": "text"
      },
      "source": [
        "실행결과\n",
        "\n",
        "p\n",
        "\n",
        "p"
      ]
    },
    {
      "cell_type": "markdown",
      "metadata": {
        "id": "fG5piiKocDsf",
        "colab_type": "text"
      },
      "source": [
        "- 소스코드상에서는 분명 두 개의 문자를 입출력하고 있다(p, enter). 하지만 실행 결과는 하나의 문자만이 입력되고 출력된 것으로 보인다. 하지만 실제로는 두 개의 문자가 입력되고 출력 되었다. 다만 두 번째 문자가 'enter key'여서 눈에 보이지 않는 것 뿐이다.\n",
        "\n",
        "  ('enter key'는 아스키 코드 값이 10인 '\\n'으로 표현되는 문자니 당연히 입출력의 대상이 된다.)\n",
        "\n",
        "  -> 여기서 p를 3번 이상 입력하면 출력 값이 pp만 나오는데 위의 이유와 같은 맥락에서 생각할 수 있다."
      ]
    },
    {
      "cell_type": "markdown",
      "metadata": {
        "id": "9CkS-mGbf12P",
        "colab_type": "text"
      },
      "source": [
        "  #### 위 예제에서 문자를 int형 변수에 저장한 이유는?\n",
        "\n",
        "  -> getchar 함수와 fgetc 함수의 반환형이 int이기 때문이다.\n",
        "  \n",
        "  (자세한 설명은 EOF를 배우고 해보자)"
      ]
    },
    {
      "cell_type": "markdown",
      "metadata": {
        "id": "hGMxE2lthay4",
        "colab_type": "text"
      },
      "source": [
        "## 문자 입출력에서의 EOF\n",
        "\n",
        "- EOF는 'End Of File'의 약자로서, 파일의 킅을 표현하기 위해서 정의해 놓은 상수이다. 따라서 파일을 대상으로 fgetc 함수가 호출되고, 그 후 그 결과로 EOF가 반한되면, 이는 **'파일의 킅에 도달해서 더 이상 읽을 내용이 없다'** 라는 뜻이 된다. \n",
        "\n",
        "- fgetc 함수와 getchar 함수는 언제 EOF를 반환할까?\n",
        "\n",
        "     1) 함수 호출의 실패\n",
        "\n",
        "     2) Windows에서 CTRL + Z 키, Linux에서 CTRL + D 키가 입력되는 경우"
      ]
    },
    {
      "cell_type": "markdown",
      "metadata": {
        "id": "u2Ixa2QKjG4e",
        "colab_type": "text"
      },
      "source": [
        "```c\n",
        "#include <stdio.h>\n",
        "\n",
        "int main(void)\n",
        "{\n",
        "    int ch;\n",
        "    while(1)\n",
        "    {\n",
        "        ch = getchar();\n",
        "        if (ch == EOF)\n",
        "            break;\n",
        "        putchar(ch);\n",
        "    }\n",
        "     return 0;\n",
        "}\n",
        "```\n",
        "\n",
        "<실행결과>\n",
        "\n",
        "Hi\n",
        "\n",
        "Hi\n",
        "\n",
        "I like it\n",
        "\n",
        "I like it\n",
        "\n",
        "^Z\n",
        "\n",
        "------------------------------------\n",
        " \n",
        " -> 여기서는 getchar 함수가 호출된다고 해서 하나의 문자만 입력하려고 노력하지 않아도 됨. 문자가 아닌 공백을 포함하는 문장을 입력해도 됨\n",
        "\n",
        " (문징이 입력되면 문장을 구성하는 문자의 수만큼 getchar 함수가 호출되면서 모든 문자를 읽어 들이기 때문이다.)\n"
      ]
    },
    {
      "cell_type": "markdown",
      "metadata": {
        "id": "luWxMFKUkpbw",
        "colab_type": "text"
      },
      "source": [
        "## 반환형이 int이고, int형 변수에 문자를 담는 이유는??\n",
        "\n",
        "그 이유는 char에 관한 내용에서 알 수 있다.\n",
        "\n",
        "- char은 signed char와 unsigned char가 있는데 컴파일러 중에서 unsigned char로 처리하는 컴파일러도 존재한다.\n",
        "\n",
        "(참고: char: -128 이상 127 이하,  unsigned char: 0 이상 (128 + 127) 이하)\n",
        "\n",
        "- getchar 함수와 fgetc 함수가 반환하는 값 중 하나인 **EOF는 -1로 정의된 상수이다.** \n",
        "\n",
        "    -> char을 unsigned char로 처리하는 컴파일러에 의해서 컴파일이 되었다면, EOF는 반환의 과정에서 엉뚱한 양의 정수로 형 변환이 되어버리고 만다.  따라서 어떤 상황에서도 -1을 인시 할 수 있는 int형으로 반환형을 정의해 놓았다."
      ]
    },
    {
      "cell_type": "markdown",
      "metadata": {
        "id": "3tBf0FZYms42",
        "colab_type": "text"
      },
      "source": [
        "#21 - 3 문자열 단위 입출력 함수\n",
        "\n",
        "scanf_s와 달리 공백을 포함하는 문자열도 입력 받을 수 있는 것...\n",
        "\n",
        "##문자열 출력 함수: puts, fputs\n",
        "\n",
        "```c\n",
        "#include <stdio.h>\n",
        "\n",
        "int puts(const char * s);\n",
        "int fputs(const char *s, FILE * stream);\n",
        "```\n",
        "      -> 성공 시 음수가 아닌 값을, 실패 시 EOF 반환\n",
        "\n",
        "- puts 함수는 출력의 대상이 stdout으로 결정되어 있지만, fputs 함수는 두 번째 인자를 통해서 출력의 대상을 결정 할 수 있다.\n",
        "\n",
        "```c\n",
        "#include <stdio.h>\n",
        "\n",
        "int main(void)\n",
        "{\n",
        "  char *str = \"Simple String\";\n",
        "\n",
        "  puts(str);\n",
        "  puts(\"So Simple\");     // 문자열이 선언된 위치에는 문자열의 주소 값 반환\n",
        "\n",
        "  fputs(str, stdout); printf(\"\\n\");\n",
        "  fputs(\"So Simple\", stdout); printf(\"\\n\");\n",
        "\n",
        "  return 0;\n",
        "}\n",
        "```\n",
        "\n",
        "<실행 결과>\n",
        "Simple String\n",
        "So Simple\n",
        "Simple String\n",
        "So Simple\n",
        "\n",
        "----\n",
        "- puts 함수가 호출되면 문자열 출력 후 자동으로 개행이 이뤄지지만, fputs 함수가 호출되면 문자열 출력 후 자동으로 개행이 이뤄지지 않는다.\n",
        "\n",
        "##문자열 입력 함수: gets, fgets\n",
        "\n",
        "```c\n",
        "#include <stdio.h>\n",
        "char *gets(char *s);\n",
        "char *fgets(char *s, int n, FILE * stream);\n",
        "```\n",
        "\n",
        "- gets 함수는 미리 마련해 놓은 배열을 넘어서는 길이의 문자열이 입력되면, 할당 받지 않은 메모리 공간을 침범하여 실행 중 오류가 발생함.\n",
        "\n",
        "- fgets 함수는 stdin으로부터 문자열을 입력 받아서 배열 str에 저장하되, sizeof(str)의 길이만큼만 저장한다."
      ]
    },
    {
      "cell_type": "markdown",
      "metadata": {
        "id": "D5Ce0wo2rD3O",
        "colab_type": "text"
      },
      "source": [
        "```c\n",
        "#include <stdio.h>\n",
        "\n",
        "int main(void)\n",
        "{\n",
        "  char str[7];\n",
        "  int i;\n",
        "\n",
        "  for (i = 0; i < 3; i ++)\n",
        "  {\n",
        "    fgets(str, sizeof(str), stdin);\n",
        "    printf(\"Read %d: %s \\n\", i + 1, str);\n",
        "  }\n",
        "  return 0;\n",
        "}\n",
        "```\n",
        "\n",
        "<실행결과 1>\n",
        "\n",
        "12345678901234567890\n",
        "\n",
        "Read 1: 123456\n",
        "\n",
        "Read 2: 789012\n",
        "\n",
        "Read 3: 345678\n",
        "\n",
        "----\n",
        "\n",
        "- 입력된 문자열의 길이가 배열의 길이를 넘어서다 보니, <u>fgets 함수는 7보다 하나 작은 6의 길이만큼만 문자열을 읽어 들인다.</u>\n",
        "\n",
        "\n",
        "<실행결과 2>\n",
        "\n",
        "We\n",
        "Read 1: We\n",
        "\n",
        ".\n",
        "\n",
        "like\n",
        "Read 2: like\n",
        "\n",
        "\n",
        ".\n",
        "\n",
        "you\n",
        "Read 3: you\n",
        "\n",
        "-----------\n",
        "\n",
        "- 위 실행 결과는 문장이 출력될 때마다 개행이 두 번 이뤄졌다.\n",
        "\n",
        "    -> fgets 함수는 \\n을 만날 때까지 문자열을 읽어 들이는데, \\n을 제외시키거나 버리지 않고 문자열의 일부로 받아들이기 때문이다.\n",
        "\n",
        "    -> 즉, 입력 한 엔터 키의 정보까지도 문자열의 일부로 저장\n",
        "\n",
        "    -> 문자열의 일부로 저장된 \\n,   printf함수 호출 문에 삽입된 \\n"
      ]
    },
    {
      "cell_type": "markdown",
      "metadata": {
        "id": "7s60tbJ6xSsH",
        "colab_type": "text"
      },
      "source": [
        "#21 - 4 표준 입출력과 버퍼\n",
        "\n",
        "## 표준 입출력 기반의 버퍼\n",
        "\n",
        "- 지금까지 공부 한 함수들을 가리켜 '표준 입출력 함수'라고 함.\n",
        "\n",
        "- 이러한 표준 입출력 함수를 통해서 데이터를 입출력 하는 경우, 해당 데이터들은 **운영체제가 제공하는 '메모리 버퍼'를 중간에 통과**하게 된다.\n",
        "\n",
        "- 즉, '메모리 버퍼'는 데이터를 임시로 모아두는 메모리 공간이다.\n",
        "\n",
        "   ㄱ) 키보드를 통해 데이터 입력 -> 입력버퍼에 저장된 후 프로그램에서 읽음\n",
        "\n",
        "         (fgets 함수가 읽어 들이는 문자열은 입력버퍼에 저장된 문자열이다.)\n",
        "\n",
        "   ㄴ) 키보드로부터 입력된 데이터가 입력 스트림을 거쳐서 입력버퍼로 들어감\n",
        "\n",
        "         (엔터 키가 눌리는 시점에서)\n",
        "\n",
        "         (때문에 아무리 문자열을 입력해도 엔터 키가 눌리기 전에는 **입력버퍼가 비워져 있으니** 문자열을 읽어 들이지 못함)\n",
        "\n",
        "- 버퍼링을 하는 이유는?\n",
        "\n",
        "    '데이터 효율성 때문' \n",
        "    \n",
        "    -> 버퍼링 없이 키보드가 눌릴 때마다 눌린 문자의 정보를 목적지로 바로 이동시키는 것보다 중간에 메모리 버퍼를 둬서 데이터를 한데 묶어 이동시키는 것이 효율적임.\n",
        "\n",
        "## 출력버퍼를 비우는 fflush 함수\n",
        "\n",
        "- fflush(stdout);\n",
        "\n",
        "- 출력버퍼가 비워진다: **출력버퍼에 저장된 데이터가 버퍼를 떠나서 목적지로 이동**\n",
        "\n",
        "     (출력버퍼가 비워지는 시점은 시스템에 따라 달라짐.)\n",
        "\n",
        "## 입력버퍼를 비워야 할 필요성\n",
        "\n",
        "```c\n",
        "#include <stdio.h>\n",
        "\n",
        "int main(void)\n",
        "{\n",
        "  char perID[7];\n",
        "  char name[10];\n",
        "\n",
        "  fputs(\"주민번호 앞 6자리 입력: \", stdout);\n",
        "  fgets(perID, sizeof(perID), stdin);\n",
        "\n",
        "  fputs(\"이름 입력: \", stdout);\n",
        "  fgets(name, sizeof(name), stdin);\n",
        "\n",
        "  printf(\"주민번호: %s \\n\", perID);\n",
        "  printf(\"이름: %s \\n\", name);\n",
        "  return 0;\n",
        "}\n",
        "```\n",
        "-----\n",
        "<실행 결과>\n",
        "\n",
        "주민번호 앞 6자리 입력: 950915\n",
        "\n",
        "이름 입력: 주민번호: 950915\n",
        "\n",
        "이름:\n",
        "\n",
        "----\n",
        "\n"
      ]
    },
    {
      "cell_type": "markdown",
      "metadata": {
        "id": "DNqP_3MT1BbY",
        "colab_type": "text"
      },
      "source": [
        "- 오류가 난 원인은?\n",
        "\n",
        "    1) 입력값: 950915(엔터 키)  총 7문자가 입력됨. -> 널 문자를 제외한 최대 6문자를 읽어 들인다.\n",
        "\n",
        "    2) 따라서 \\n을 제외한 나머지 여섯 문자를 읽고 \\n은 입력버퍼에 남아있게 됨.\n",
        "\n",
        "    3)fgets 함수는 \\n을 만날 때까지 읽어 들이니, 버퍼에 남아있는 \\n을 읽음.\n",
        "\n",
        "- 해결하기 위해서는 주민번호 앞 6자리를 제외한 나머지 문자들을 입력버퍼에서 지워야 함.\n",
        "\n",
        "----\n",
        "\n",
        "```c\n",
        "# include <stdio.h>\n",
        "\n",
        "void ClearBuffer(void)\n",
        "{\n",
        "  while(getchar()!='\\n');\n",
        "}\n",
        "\n",
        "\n",
        "int main(void)\n",
        "{\n",
        "  char perID[7];\n",
        "  char name[10];\n",
        " \n",
        "  fputs(\"주민번호 앞 6자리 입력: \", stdout);\n",
        "  fgets(perID, sizeof(perID), stdin);\n",
        "  ClearBuffer();\n",
        "\n",
        "  fputs(\"이름 입력: \", stdout);\n",
        "  fgets(name, sizeof(name), stdin);\n",
        " \n",
        "  printf(\"주민번호: %s \\n\", perID);\n",
        "  printf(\"이름: %s \\n\", name);\n",
        "  return 0;\n",
        "}\n",
        "```\n",
        "----\n",
        "\n",
        "- \\n이 읽혀질 때까지 입력버퍼에 저장된 문자들을 지우는 함수 추가함.\n",
        "\n",
        "    (필요한 만큼만 읽어 들이고 나머지는지워버림)\n"
      ]
    },
    {
      "cell_type": "markdown",
      "metadata": {
        "id": "hbEy40uq24G9",
        "colab_type": "text"
      },
      "source": [
        "#21 - 5 입출력 이외의 문자열 관련 함수\n",
        "\n",
        "## 문자열의 길이를 반환하는 함수: strlen\n",
        "\n",
        "- 전달된 문자열의 길이를 반환하되, 널 문자는 길이에 포함시키지 않음.\n",
        "\n",
        "```c\n",
        "#include <stdio.h>\n",
        "#include <string.h>\n",
        "\n",
        "void Remove(char str[])\n",
        "{\n",
        "  int len = strlen(str);\n",
        "  str[len - 1] = 0;\n",
        "}\n",
        "\n",
        "int main(void)\n",
        "{\n",
        "  char str[100];\n",
        "  printf(\"문자열 입력: \");\n",
        "  fgets(str, sizeof(str), stdin);\n",
        "  printf(\"길이: %d, 내용: %s \\n\", strlen(str), str);\n",
        "\n",
        "  Remove(str);\n",
        "  printf(\"길이: %d, 내용: %s \\n\", strlen(str), str);\n",
        "  return 0;\n",
        "}\n",
        "```\n",
        "\n",
        "----\n",
        "문자열 입력: Hi DN\n",
        "길이: 6, 내용: Hi DN\n",
        "\n",
        "\n",
        "길이: 12, 내용: Hi DN\n",
        "\n",
        "----\n",
        "- enter key 값이 사라졌기 때문에 길이도 줄고, 개행도 한 번 이루어짐."
      ]
    },
    {
      "cell_type": "markdown",
      "metadata": {
        "id": "8H9kkdXe5bsH",
        "colab_type": "text"
      },
      "source": [
        "## 문자열을 복사하는 함수들: strcpy, strncpy\n",
        "\n",
        "strcpy(str2, str1);   // str1의 문자열을 str2에 복사\n",
        "\n",
        "strncpy(str2, str1, sizeof(str2));    // sizeof(str2)가 반환한 값에 해당하는 문자의 수 만큼만 복사를 진행\n",
        "\n",
        "- 복사된 문자열의 주소 값 반환\n",
        "\n",
        "----\n",
        "```c\n",
        "#include <stdio.h>\n",
        "#include <string.h>\n",
        "\n",
        "int main(void)\n",
        "{\n",
        "  char str1[20] = \"1234567890\"\n",
        "  char str2[20];\n",
        "  char str3[5];\n",
        "\n",
        "  strcpy(str2, str1);\n",
        "  puts(str2);\n",
        "\n",
        "  strncpy(str3, str1, sizeof(str3));\n",
        "  puts(str3);\n",
        "\n",
        "  strncpy(str3, str1, sizeof(str3) - 1);\n",
        "  str3[sizeof(str3) - 1] = 0;\n",
        "  puts(str3);\n",
        "  return 0;\n",
        "}\n",
        "```\n",
        "\n",
        "----\n",
        "\n",
        "<실행 결과>\n",
        "\n",
        "123456789\n",
        "\n",
        "12345$$#%#@%234567890\n",
        "\n",
        "1234\n",
        "\n",
        "-------\n",
        "\n",
        "- 두 번째 실행결과가 오류가 난 까닭은?\n",
        "\n",
        "     sizeof(str3)의 반환 값은 5이니 5개의 문자가 복사된다. 단, **이 5개의 문자 안에 널 문자가 포함되지 않는다.**\n",
        "\n",
        "     즉, strncpy는 마지막 문자가 널 문자인지 아닌지는 상관하지 않고 그냥 복사한다."
      ]
    },
    {
      "cell_type": "markdown",
      "metadata": {
        "id": "ciJaaTdJ74Gt",
        "colab_type": "text"
      },
      "source": [
        "#문자열을 덧붙이는 함수들: strcat, strncat\n",
        "\n",
        "strcat(str1, str2);가 있다고 할 때...\n",
        "\n",
        "- strcat 함수가 호출되면 str2의 문자열이 str1의 문자열 뒤에 덧붙여지는데, 텃붙여지는 형태는, **널 문자 다음이 아닌, 널 문자가 저장된 위치에서부터 일어난다.**\n",
        "\n",
        "strncat(str1, str2, 8); 이라면...\n",
        "\n",
        "- str2의 문자열중 최대 8개를 str1의 뒤에 붙여라!\n",
        "\n",
        "- 단, 이 8개의 문자에는 널 문자가 포함되지 않는다.\n",
        "\n",
        "- **strncpy 함수와 달리 strncat 함수는 문자열의 끄테 널 문자를 자동으로 삽입해준다.**\n",
        "\n",
        "\n",
        "\n"
      ]
    },
    {
      "cell_type": "markdown",
      "metadata": {
        "id": "xpy5Vuvb89hu",
        "colab_type": "text"
      },
      "source": [
        "#문자열을 비교하는 함수들: strcmp, strncmp\n",
        "\n",
        "이 코드가 의미하는 바는?\n",
        "\n",
        "---\n",
        "\n",
        "```c\n",
        "#include <stdio.h>\n",
        "\n",
        "int main(void)\n",
        "{\n",
        "  char str1[] = \"My s\";\n",
        "  char str2[] = \"My s\";\n",
        "\n",
        "  if (str1 == str2)\n",
        "      puts(\"equal\");\n",
        "  else\n",
        "      puts(\"not\");\n",
        "  \n",
        "  return 0;\n",
        "}\n",
        "```\n",
        "\n",
        "---\n",
        "\n",
        "- 이는 문자열의 내용을 비교하는 것이 아니라 배열 str1과 배열 str2의 주소 값을 비교하는 것이다.\n",
        "\n",
        "strcmp(str1, str2);\n",
        "\n",
        "strncmp(str1, str2, int n);\n",
        "\n",
        "   -> 두 문자열의 내용이 같으면 0, 같지 않으면 0이 아닌 값을 반환\n",
        "\n",
        "- s1이 더 크면 0보다 큰 값 반환\n",
        "\n",
        "- s2가 더 크면 0보다 작은 값 반환\n",
        "\n",
        "- s1과 s2의 내용이 모두 같으면 0 반환\n",
        "\n",
        "- 문자열의 크고 작음은 아스키 코드 값을 기준으로 결정됨\n",
        "\n",
        "- 만약 str1= \"ABCDE\" 이고, str2 = \"AB\"라면 양수, 그 반대는 음수 출력됨."
      ]
    }
  ]
}